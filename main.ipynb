{
 "cells": [
  {
   "cell_type": "markdown",
   "metadata": {},
   "source": [
    "# Case 3: Espresso Machine\n",
    "\n",
    "## Assignment A\n",
    "This queue is a (M/M/2) queue, since the arrivals and service is memoryless and there are two cups of coffee that can be made. We have that we have a FCFS order (since the person waiting the longest can make their order). We can assume an infite waiting room. The model is Ergotic (see image), since every state can be reached from any other state.\n",
    "\n",
    "![Sketch](sketch.jpg)\n",
    "\n",
    "### Long-run fraction of customers who have to wait in the hall before their service starts.\n"
    "We first calculate P0"
   ]
  },
  {
   "cell_type": "code",
   "execution_count": null,
   "metadata": {},
   "outputs": [],
   "source": []
  }
 ],
 "metadata": {
  "language_info": {
   "name": "python"
  },
  "orig_nbformat": 4
 },
 "nbformat": 4,
 "nbformat_minor": 2
}
